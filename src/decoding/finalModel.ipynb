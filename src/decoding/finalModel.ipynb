{
 "cells": [
  {
   "cell_type": "code",
   "execution_count": null,
   "metadata": {},
   "outputs": [],
   "source": [
    "# importing the sys module\n",
    "import sys\n",
    "sys.path.append('C:/Users/nsshi/github/Coeus/src/modules')  \n",
    "import lib\n",
    "from tensorflow import keras\n",
    "from tensorflow.keras import layers\n",
    "from sklearn.model_selection import KFold\n",
    "import numpy as np\n",
    "import tensorflow as tf\n",
    "\n",
    "# File data\n",
    "save_dir = '/modelsOut/'\n",
    "emg_filename = r'Data\\EMG_Mar_19_09_34_15.txt'\n",
    "q_filename = r'Data\\Q_Mar_19_09_33_45.txt'\n",
    "\n",
    "# Preprocessing\n",
    "emg, emgTimes, q, qTimes = lib.import_files(emg_filename, q_filename, old=True)\n",
    "qF, emgF, tF, timestampsF = lib.unify_timeseries_high(emg, emgTimes, q, qTimes)\n",
    "emgModel = lib.normalize_emg_rolling(emgF)\n",
    "qModel = lib.finger_nodes(qF, finger = 'indextip')"
   ]
  },
  {
   "cell_type": "code",
   "execution_count": null,
   "metadata": {},
   "outputs": [],
   "source": [
    "sequence_length = 100\n",
    "trn, val, tst, input_shape, output_shape = lib.create_dataset(tF, emgModel, qModel, sequence_length = sequence_length)"
   ]
  },
  {
   "cell_type": "code",
   "execution_count": null,
   "metadata": {},
   "outputs": [],
   "source": [
    "# Dropout\n",
    "do=0.8\n",
    "\n",
    "inputs = keras.Input(shape=(sequence_length, input_shape))\n",
    "x = layers.Dense(12, activation=\"relu\")(inputs)\n",
    "x = layers.Dense(8, activation=\"relu\")(x)\n",
    "x = layers.Dense(4, activation=\"relu\")(x)\n",
    "\n",
    "# Recurrent layers\n",
    "x = layers.GRU(4, recurrent_dropout=do, return_sequences=True)(x)\n",
    "x = layers.GRU(4, recurrent_dropout=do, return_sequences=True)(x)\n",
    "x = layers.GRU(4, recurrent_dropout=do)(x)\n",
    "x = layers.Dropout(do)(x)\n",
    "\n",
    "# Dense layers\n",
    "x = layers.Dense(8, activation=\"relu\")(x)\n",
    "x = layers.Dense(16, activation=\"relu\")(x)\n",
    "x = layers.Dense(8, activation=\"relu\")(x)\n",
    "x = layers.Dense(4, activation=\"relu\")(x)\n",
    "\n",
    "# Output layer\n",
    "outputs = layers.Dense(output_shape)(x)\n",
    "\n",
    "# Construct model and descent algorithm, train, and print test results\n",
    "model = keras.Model(inputs, outputs)\n",
    "callbacks = [\n",
    " keras.callbacks.ModelCheckpoint(save_dir + \"Final_Model.keras\",\n",
    " save_best_only=True)\n",
    "]\n",
    "\n",
    "opt = tf.keras.optimizers.Adam(learning_rate=0.005,\n",
    "    beta_1=0.99,\n",
    "    beta_2=0.999,\n",
    "    epsilon=1e-05,\n",
    ")\n",
    "model.compile(optimizer=opt, loss=\"mse\", metrics=[tf.keras.metrics.RootMeanSquaredError()])\n",
    "history = model.fit(trn,\n",
    " epochs=40,\n",
    " validation_data=val,\n",
    " callbacks=callbacks)\n",
    "model = keras.models.load_model(save_dir + \"Final_Model\".keras\")\n",
    "print(f\"Test RMSE: {model.evaluate(tst)[1]:.4f}\")"
   ]
  }
 ],
 "metadata": {
  "language_info": {
   "name": "python"
  },
  "orig_nbformat": 4
 },
 "nbformat": 4,
 "nbformat_minor": 2
}
