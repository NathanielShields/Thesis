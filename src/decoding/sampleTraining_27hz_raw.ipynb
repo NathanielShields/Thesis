{
 "cells": [
  {
   "cell_type": "markdown",
   "metadata": {},
   "source": [
    "Some code inherited from christianversloot (github)'s machine learning articles and Deep Learning in Python (Chollet)"
   ]
  },
  {
   "cell_type": "markdown",
   "metadata": {},
   "source": [
    "Preprocessing:"
   ]
  },
  {
   "cell_type": "code",
   "execution_count": 1,
   "metadata": {},
   "outputs": [],
   "source": [
    "# importing the sys module\n",
    "import sys\n",
    "sys.path.append('C:/Users/nsshi/github/Coeus/src/modules')  \n",
    "import lib\n",
    "from tensorflow import keras\n",
    "from tensorflow.keras import layers\n",
    "from sklearn.model_selection import KFold\n",
    "import numpy as np\n",
    "import tensorflow as tf\n",
    "\n",
    "# File data\n",
    "save_dir = '/modelsOut/'\n",
    "emg_filename = r'Data\\EMG_Mar_19_09_34_15.txt'\n",
    "q_filename = r'Data\\Q_Mar_19_09_33_45.txt'\n",
    "\n",
    "# Preprocessing\n",
    "emg, emgTimes, q, qTimes = lib.import_files(emg_filename, q_filename, old=True)\n",
    "qF, emgF, tF, timestampsF = lib.unify_timeseries_high(emg, emgTimes, q, qTimes)\n",
    "emgModel = lib.normalize_emg_rolling(emgF)\n",
    "qModel = lib.finger_nodes(qF, finger = 'indextip')\n"
   ]
  },
  {
   "cell_type": "markdown",
   "metadata": {},
   "source": [
    "K-Fold Validation Example:"
   ]
  },
  {
   "cell_type": "code",
   "execution_count": null,
   "metadata": {},
   "outputs": [],
   "source": [
    "# Create timeseries dataset\n",
    "sequence_length = 100\n",
    "data, targets, input_shape, output_shape = lib.create_dataset_cv(tF, emgModel, qModel, sequence_length = sequence_length)"
   ]
  },
  {
   "cell_type": "code",
   "execution_count": null,
   "metadata": {},
   "outputs": [],
   "source": [
    "# K-fold Cross Validation model evaluation\n",
    "number_folds = 3\n",
    "fold_index = 0\n",
    "\n",
    "# Define the K-fold Cross Validator\n",
    "kfold = KFold(n_splits= number_folds, shuffle=True)\n",
    "\n",
    "for train_ind, test_ind in kfold.split(data, targets):\n",
    "\n",
    "  # Normalize\n",
    "  data = (data-np.mean(data[train_ind], axis=0))/np.std(data[train_ind], axis=0)\n",
    "\n",
    "  # Model parameters\n",
    "  do = 0.8  # Dropout rate\n",
    "  loss_function = \"mse\"\n",
    "  optimizer = \"adam\"\n",
    "  metrics=[tf.keras.metrics.RootMeanSquaredError()]\n",
    "  batch_size = 256\n",
    "  no_epochs = 5\n",
    "  verbosity = 1\n",
    "\n",
    "  callbacks = [\n",
    "    tf.keras.callbacks.ModelCheckpoint(save_dir + lib.get_model_name(fold_index), \n",
    "      monitor='val_accuracy', verbose=1, \n",
    "      save_best_only=True, mode='max')]\n",
    "\n",
    "  # Define per-fold score containers\n",
    "  acc_per_fold = []\n",
    "  loss_per_fold = []\n",
    "\n",
    "  # Define the model architecture\n",
    "  inputs = keras.Input(shape=(sequence_length, input_shape))\n",
    "\n",
    "  # Recurrent layers\n",
    "  x = layers.GRU(4, recurrent_dropout=do, return_sequences=True)(inputs)\n",
    "  x = layers.GRU(4, recurrent_dropout=do, return_sequences=True)(x)\n",
    "  x = layers.GRU(4, recurrent_dropout=do)(x)\n",
    "  x = layers.Dropout(do)(x)\n",
    "\n",
    "  # Output layers\n",
    "  x = layers.Dense(4)(x)\n",
    "  outputs = layers.Dense(output_shape)(x)\n",
    "\n",
    "  # Compile the model\n",
    "  model = keras.Model(inputs, outputs)\n",
    "  model.compile(loss=loss_function,\n",
    "                optimizer=optimizer,\n",
    "                metrics=metrics)\n",
    "\n",
    "\n",
    "  # Generate a print\n",
    "  print('------------------------------------------------------------------------')\n",
    "  print(f'Training for fold {fold_index} ...')\n",
    "\n",
    "  # Fit data to model\n",
    "  history = model.fit(data[train_ind], targets[train_ind],\n",
    "              batch_size=batch_size,\n",
    "              epochs=no_epochs,\n",
    "              verbose=verbosity,\n",
    "              callbacks=callbacks)\n",
    "\n",
    "  # Generate generalization metrics\n",
    "  scores = model.evaluate(data[test_ind], targets[test_ind], verbose=0)\n",
    "  print(f'Score for fold {fold_index}: {model.metrics_names[0]} of {scores[0]}; {model.metrics_names[1]} of {scores[1]*100} cm')\n",
    "  acc_per_fold.append(scores[1] * 100)\n",
    "  loss_per_fold.append(scores[0])\n",
    "\n",
    "  # Increase fold number\n",
    "  fold_index = fold_index + 1\n",
    "\n",
    "# == Provide average scores ==\n",
    "print('-------------------------------------------------------------------------')\n",
    "print('Score per fold:')\n",
    "for i in range(0, len(acc_per_fold)):\n",
    "  print('-----------------------------------------------------------------------')\n",
    "  print(f'> Fold {i+1} - Loss: {loss_per_fold[i]} - Accuracy: {acc_per_fold[i]}%')\n",
    "print('-------------------------------------------------------------------------')\n",
    "print('Average scores for all folds:')\n",
    "print(f'> Accuracy: {np.mean(acc_per_fold)} (+- {np.std(acc_per_fold)})')\n",
    "print(f'> Loss: {np.mean(loss_per_fold)}')\n",
    "print('-------------------------------------------------------------------------')"
   ]
  },
  {
   "cell_type": "markdown",
   "metadata": {},
   "source": [
    "Back to Non-k-fold Training"
   ]
  },
  {
   "cell_type": "code",
   "execution_count": 2,
   "metadata": {},
   "outputs": [
    {
     "name": "stdout",
     "output_type": "stream",
     "text": [
      "Using data from  1.3940762475810944  seconds prior\n"
     ]
    }
   ],
   "source": [
    "sequence_length = 100\n",
    "trn, val, tst, input_shape, output_shape = lib.create_dataset(tF, emgModel, qModel, sequence_length = sequence_length)"
   ]
  },
  {
   "cell_type": "markdown",
   "metadata": {},
   "source": [
    "Naive Method:"
   ]
  },
  {
   "cell_type": "code",
   "execution_count": 3,
   "metadata": {},
   "outputs": [
    {
     "name": "stdout",
     "output_type": "stream",
     "text": [
      "Naive Validation Error: 0.055700185178453786\n",
      "Naive Test Error: 0.06293117081123839\n"
     ]
    }
   ],
   "source": [
    "naive_rmse_val, naive_rmse_tst = lib.naive_method(qModel)\n",
    "print(\"Naive Validation Error:\", naive_rmse_val)\n",
    "print(\"Naive Test Error:\", naive_rmse_tst)"
   ]
  },
  {
   "cell_type": "markdown",
   "metadata": {},
   "source": [
    "Basic Dense Model:"
   ]
  },
  {
   "cell_type": "code",
   "execution_count": 4,
   "metadata": {},
   "outputs": [
    {
     "name": "stdout",
     "output_type": "stream",
     "text": [
      "Epoch 1/10\n",
      "59/59 [==============================] - 8s 67ms/step - loss: 0.0072 - root_mean_squared_error: 0.0846 - val_loss: 0.0036 - val_root_mean_squared_error: 0.0599\n",
      "Epoch 2/10\n",
      "59/59 [==============================] - 3s 48ms/step - loss: 0.0018 - root_mean_squared_error: 0.0427 - val_loss: 0.0014 - val_root_mean_squared_error: 0.0375\n",
      "Epoch 3/10\n",
      "59/59 [==============================] - 3s 52ms/step - loss: 8.4816e-04 - root_mean_squared_error: 0.0291 - val_loss: 9.6414e-04 - val_root_mean_squared_error: 0.0311\n",
      "Epoch 4/10\n",
      "59/59 [==============================] - 3s 48ms/step - loss: 6.8249e-04 - root_mean_squared_error: 0.0261 - val_loss: 8.9183e-04 - val_root_mean_squared_error: 0.0299\n",
      "Epoch 5/10\n",
      "59/59 [==============================] - 3s 48ms/step - loss: 6.4656e-04 - root_mean_squared_error: 0.0254 - val_loss: 8.6656e-04 - val_root_mean_squared_error: 0.0294\n",
      "Epoch 6/10\n",
      "59/59 [==============================] - 3s 49ms/step - loss: 6.4408e-04 - root_mean_squared_error: 0.0254 - val_loss: 8.6429e-04 - val_root_mean_squared_error: 0.0294\n",
      "Epoch 7/10\n",
      "59/59 [==============================] - 3s 50ms/step - loss: 6.4165e-04 - root_mean_squared_error: 0.0253 - val_loss: 8.6356e-04 - val_root_mean_squared_error: 0.0294\n",
      "Epoch 8/10\n",
      "59/59 [==============================] - 3s 43ms/step - loss: 6.3857e-04 - root_mean_squared_error: 0.0253 - val_loss: 8.5975e-04 - val_root_mean_squared_error: 0.0293\n",
      "Epoch 9/10\n",
      "59/59 [==============================] - 2s 40ms/step - loss: 6.3800e-04 - root_mean_squared_error: 0.0253 - val_loss: 8.6133e-04 - val_root_mean_squared_error: 0.0293\n",
      "Epoch 10/10\n",
      "59/59 [==============================] - 3s 44ms/step - loss: 6.3798e-04 - root_mean_squared_error: 0.0253 - val_loss: 8.6200e-04 - val_root_mean_squared_error: 0.0294\n",
      "29/29 [==============================] - 2s 20ms/step - loss: 7.3963e-04 - root_mean_squared_error: 0.0272\n",
      "Test RMSE: 0.0272\n"
     ]
    }
   ],
   "source": [
    "inputs = keras.Input(shape = (sequence_length, emgModel.shape[-1]))\n",
    "\n",
    "# Dense layers\n",
    "x = layers.Flatten()(inputs)\n",
    "x = layers.Dense(32, activation=\"relu\")(x)\n",
    "x = layers.Dense(16, activation=\"relu\")(x)\n",
    "x = layers.Dense(8, activation=\"relu\")(x)\n",
    "x = layers.Dense(4, activation=\"relu\")(x)\n",
    "outputs = layers.Dense(output_shape)(x)\n",
    "\n",
    "# Construct model and descent algorithm, train, and print test results\n",
    "model = keras.Model(inputs, outputs)\n",
    "callbacks = [\n",
    " keras.callbacks.ModelCheckpoint(save_dir + \"27_basic_dense.keras\",\n",
    " save_best_only=True)\n",
    "] \n",
    "model.compile(optimizer = \"rmsprop\", loss=\"mse\", metrics=[tf.keras.metrics.RootMeanSquaredError()])\n",
    "history = model.fit(trn,\n",
    " epochs = 10,\n",
    " validation_data = val,\n",
    " callbacks=callbacks)\n",
    "model = keras.models.load_model(save_dir + \"27_basic_dense.keras\")\n",
    "print(f\"Test RMSE: {model.evaluate(tst)[1]:.4f}\")"
   ]
  },
  {
   "cell_type": "code",
   "execution_count": 5,
   "metadata": {},
   "outputs": [
    {
     "name": "stdout",
     "output_type": "stream",
     "text": [
      "29/29 [==============================] - 1s 20ms/step - loss: 7.3963e-04 - root_mean_squared_error: 0.0272\n",
      "Test RMSE: 0.0272\n",
      "Model: \"model\"\n",
      "_________________________________________________________________\n",
      " Layer (type)                Output Shape              Param #   \n",
      "=================================================================\n",
      " input_1 (InputLayer)        [(None, 100, 12)]         0         \n",
      "                                                                 \n",
      " flatten (Flatten)           (None, 1200)              0         \n",
      "                                                                 \n",
      " dense (Dense)               (None, 32)                38432     \n",
      "                                                                 \n",
      " dense_1 (Dense)             (None, 16)                528       \n",
      "                                                                 \n",
      " dense_2 (Dense)             (None, 8)                 136       \n",
      "                                                                 \n",
      " dense_3 (Dense)             (None, 4)                 36        \n",
      "                                                                 \n",
      " dense_4 (Dense)             (None, 3)                 15        \n",
      "                                                                 \n",
      "=================================================================\n",
      "Total params: 39,147\n",
      "Trainable params: 39,147\n",
      "Non-trainable params: 0\n",
      "_________________________________________________________________\n",
      "None\n"
     ]
    },
    {
     "data": {
      "image/png": "[encoded data removed]",
      "text/plain": [
       "<Figure size 432x288 with 1 Axes>"
      ]
     },
     "metadata": {
      "needs_background": "light"
     },
     "output_type": "display_data"
    }
   ],
   "source": [
    "lib.model_summary(model, history, tst)"
   ]
  },
  {
   "cell_type": "code",
   "execution_count": 6,
   "metadata": {},
   "outputs": [
    {
     "name": "stdout",
     "output_type": "stream",
     "text": [
      "Epoch 1/5\n",
      "59/59 [==============================] - 7s 74ms/step - loss: 0.0136 - root_mean_squared_error: 0.1166 - val_loss: 0.0032 - val_root_mean_squared_error: 0.0568\n",
      "Epoch 2/5\n",
      "59/59 [==============================] - 4s 64ms/step - loss: 0.0022 - root_mean_squared_error: 0.0472 - val_loss: 0.0013 - val_root_mean_squared_error: 0.0358\n",
      "Epoch 3/5\n",
      "59/59 [==============================] - 3s 59ms/step - loss: 8.7659e-04 - root_mean_squared_error: 0.0296 - val_loss: 8.5458e-04 - val_root_mean_squared_error: 0.0292\n",
      "Epoch 4/5\n",
      "59/59 [==============================] - 3s 56ms/step - loss: 6.4781e-04 - root_mean_squared_error: 0.0255 - val_loss: 8.5062e-04 - val_root_mean_squared_error: 0.0292\n",
      "Epoch 5/5\n",
      "59/59 [==============================] - 3s 56ms/step - loss: 6.3688e-04 - root_mean_squared_error: 0.0252 - val_loss: 8.5389e-04 - val_root_mean_squared_error: 0.0292\n",
      "29/29 [==============================] - 2s 26ms/step - loss: 7.0949e-04 - root_mean_squared_error: 0.0266\n",
      "Test RMSE: 0.0266\n"
     ]
    }
   ],
   "source": [
    "# More complex model\n",
    "inputs = keras.Input(shape = (sequence_length, emgModel.shape[-1]))\n",
    "x = layers.Flatten()(inputs)\n",
    "x = layers.Dense(1200, activation=\"relu\")(x)\n",
    "x = layers.Dense(100, activation=\"relu\")(x)\n",
    "x = layers.Dense(10, activation=\"relu\")(x)\n",
    "outputs = layers.Dense(output_shape)(x)\n",
    "\n",
    "# Construct model and descent algorithm, train, and print test results\n",
    "model = keras.Model(inputs, outputs)\n",
    "callbacks = [\n",
    " keras.callbacks.ModelCheckpoint(save_dir + \"27_heavy_dense.keras\",\n",
    " save_best_only=True)\n",
    "] \n",
    "model.compile(optimizer = \"rmsprop\", loss=\"mse\", metrics=[tf.keras.metrics.RootMeanSquaredError()])\n",
    "history = model.fit(trn,\n",
    " epochs = 5,\n",
    " validation_data = val,\n",
    " callbacks=callbacks)\n",
    "model = keras.models.load_model(save_dir + \"27_heavy_dense.keras\")\n",
    "print(f\"Test RMSE: {model.evaluate(tst)[1]:.4f}\")"
   ]
  },
  {
   "cell_type": "code",
   "execution_count": 7,
   "metadata": {},
   "outputs": [
    {
     "name": "stdout",
     "output_type": "stream",
     "text": [
      "29/29 [==============================] - 1s 27ms/step - loss: 7.0949e-04 - root_mean_squared_error: 0.0266\n",
      "Test RMSE: 0.0266\n",
      "Model: \"model_1\"\n",
      "_________________________________________________________________\n",
      " Layer (type)                Output Shape              Param #   \n",
      "=================================================================\n",
      " input_2 (InputLayer)        [(None, 100, 12)]         0         \n",
      "                                                                 \n",
      " flatten_1 (Flatten)         (None, 1200)              0         \n",
      "                                                                 \n",
      " dense_5 (Dense)             (None, 1200)              1441200   \n",
      "                                                                 \n",
      " dense_6 (Dense)             (None, 100)               120100    \n",
      "                                                                 \n",
      " dense_7 (Dense)             (None, 10)                1010      \n",
      "                                                                 \n",
      " dense_8 (Dense)             (None, 3)                 33        \n",
      "                                                                 \n",
      "=================================================================\n",
      "Total params: 1,562,343\n",
      "Trainable params: 1,562,343\n",
      "Non-trainable params: 0\n",
      "_________________________________________________________________\n",
      "None\n"
     ]
    },
    {
     "data": {
      "image/png": "[encoded data removed]",
      "text/plain": [
       "<Figure size 432x288 with 1 Axes>"
      ]
     },
     "metadata": {
      "needs_background": "light"
     },
     "output_type": "display_data"
    }
   ],
   "source": [
    "lib.model_summary(model, history, tst)"
   ]
  },
  {
   "cell_type": "code",
   "execution_count": 8,
   "metadata": {},
   "outputs": [
    {
     "name": "stdout",
     "output_type": "stream",
     "text": [
      "Epoch 1/5\n",
      "59/59 [==============================] - 10s 95ms/step - loss: 0.0614 - root_mean_squared_error: 0.2478 - val_loss: 0.0039 - val_root_mean_squared_error: 0.0621\n",
      "Epoch 2/5\n",
      "59/59 [==============================] - 5s 83ms/step - loss: 0.0026 - root_mean_squared_error: 0.0513 - val_loss: 0.0015 - val_root_mean_squared_error: 0.0383\n",
      "Epoch 3/5\n",
      "59/59 [==============================] - 5s 85ms/step - loss: 9.8775e-04 - root_mean_squared_error: 0.0314 - val_loss: 8.6818e-04 - val_root_mean_squared_error: 0.0295\n",
      "Epoch 4/5\n",
      "59/59 [==============================] - 5s 81ms/step - loss: 6.5555e-04 - root_mean_squared_error: 0.0256 - val_loss: 8.4948e-04 - val_root_mean_squared_error: 0.0291\n",
      "Epoch 5/5\n",
      "59/59 [==============================] - 4s 70ms/step - loss: 6.3722e-04 - root_mean_squared_error: 0.0252 - val_loss: 8.5368e-04 - val_root_mean_squared_error: 0.0292\n",
      "29/29 [==============================] - 1s 23ms/step - loss: 7.0720e-04 - root_mean_squared_error: 0.0266\n",
      "Test RMSE: 0.0266\n"
     ]
    }
   ],
   "source": [
    "# Even more complex model\n",
    "inputs = keras.Input(shape = (sequence_length, emgModel.shape[-1]))\n",
    "x = layers.Flatten()(inputs)\n",
    "x = layers.Dense(1200, activation=\"relu\")(x)\n",
    "x = layers.Dense(600, activation=\"relu\")(x)\n",
    "x = layers.Dense(100, activation=\"relu\")(x)\n",
    "x = layers.Dense(10, activation=\"relu\")(x)\n",
    "outputs = layers.Dense(output_shape)(x)\n",
    "\n",
    "# Construct model and descent algorithm, train, and print test results\n",
    "model = keras.Model(inputs, outputs)\n",
    "callbacks = [\n",
    " keras.callbacks.ModelCheckpoint(save_dir + \"27_heaviest_dense.keras\",\n",
    " save_best_only=True)\n",
    "] \n",
    "model.compile(optimizer = \"rmsprop\", loss=\"mse\", metrics=[tf.keras.metrics.RootMeanSquaredError()])\n",
    "history = model.fit(trn,\n",
    " epochs = 5,\n",
    " validation_data = val,\n",
    " callbacks=callbacks)\n",
    "model = keras.models.load_model(save_dir + \"27_heaviest_dense.keras\")\n",
    "print(f\"Test RMSE: {model.evaluate(tst)[1]:.4f}\")"
   ]
  },
  {
   "cell_type": "code",
   "execution_count": 9,
   "metadata": {},
   "outputs": [
    {
     "name": "stdout",
     "output_type": "stream",
     "text": [
      "29/29 [==============================] - 1s 33ms/step - loss: 7.0720e-04 - root_mean_squared_error: 0.0266\n",
      "Test RMSE: 0.0266\n",
      "Model: \"model_2\"\n",
      "_________________________________________________________________\n",
      " Layer (type)                Output Shape              Param #   \n",
      "=================================================================\n",
      " input_3 (InputLayer)        [(None, 100, 12)]         0         \n",
      "                                                                 \n",
      " flatten_2 (Flatten)         (None, 1200)              0         \n",
      "                                                                 \n",
      " dense_9 (Dense)             (None, 1200)              1441200   \n",
      "                                                                 \n",
      " dense_10 (Dense)            (None, 600)               720600    \n",
      "                                                                 \n",
      " dense_11 (Dense)            (None, 100)               60100     \n",
      "                                                                 \n",
      " dense_12 (Dense)            (None, 10)                1010      \n",
      "                                                                 \n",
      " dense_13 (Dense)            (None, 3)                 33        \n",
      "                                                                 \n",
      "=================================================================\n",
      "Total params: 2,222,943\n",
      "Trainable params: 2,222,943\n",
      "Non-trainable params: 0\n",
      "_________________________________________________________________\n",
      "None\n"
     ]
    },
    {
     "data": {
      "image/png": "[encoded data removed]",
      "text/plain": [
       "<Figure size 432x288 with 1 Axes>"
      ]
     },
     "metadata": {
      "needs_background": "light"
     },
     "output_type": "display_data"
    }
   ],
   "source": [
    "lib.model_summary(model, history, tst)"
   ]
  },
  {
   "cell_type": "markdown",
   "metadata": {},
   "source": [
    "Conv1D Method:"
   ]
  },
  {
   "cell_type": "code",
   "execution_count": 10,
   "metadata": {},
   "outputs": [
    {
     "name": "stdout",
     "output_type": "stream",
     "text": [
      "Epoch 1/20\n",
      "59/59 [==============================] - 10s 77ms/step - loss: 0.0091 - root_mean_squared_error: 0.0954 - val_loss: 0.0018 - val_root_mean_squared_error: 0.0429\n",
      "Epoch 2/20\n",
      "59/59 [==============================] - 3s 57ms/step - loss: 0.0014 - root_mean_squared_error: 0.0379 - val_loss: 0.0019 - val_root_mean_squared_error: 0.0433\n",
      "Epoch 3/20\n",
      "59/59 [==============================] - 4s 59ms/step - loss: 9.9519e-04 - root_mean_squared_error: 0.0315 - val_loss: 0.0013 - val_root_mean_squared_error: 0.0364\n",
      "Epoch 4/20\n",
      "59/59 [==============================] - 3s 59ms/step - loss: 8.3165e-04 - root_mean_squared_error: 0.0288 - val_loss: 0.0013 - val_root_mean_squared_error: 0.0365\n",
      "Epoch 5/20\n",
      "59/59 [==============================] - 4s 60ms/step - loss: 7.1574e-04 - root_mean_squared_error: 0.0268 - val_loss: 0.0011 - val_root_mean_squared_error: 0.0336\n",
      "Epoch 6/20\n",
      "59/59 [==============================] - 3s 56ms/step - loss: 6.4208e-04 - root_mean_squared_error: 0.0253 - val_loss: 0.0011 - val_root_mean_squared_error: 0.0324\n",
      "Epoch 7/20\n",
      "59/59 [==============================] - 4s 61ms/step - loss: 6.0340e-04 - root_mean_squared_error: 0.0246 - val_loss: 9.9620e-04 - val_root_mean_squared_error: 0.0316\n",
      "Epoch 8/20\n",
      "59/59 [==============================] - 4s 62ms/step - loss: 5.7538e-04 - root_mean_squared_error: 0.0240 - val_loss: 9.9432e-04 - val_root_mean_squared_error: 0.0315\n",
      "Epoch 9/20\n",
      "59/59 [==============================] - 4s 61ms/step - loss: 5.3820e-04 - root_mean_squared_error: 0.0232 - val_loss: 9.9265e-04 - val_root_mean_squared_error: 0.0315\n",
      "Epoch 10/20\n",
      "59/59 [==============================] - 3s 59ms/step - loss: 5.2342e-04 - root_mean_squared_error: 0.0229 - val_loss: 9.9546e-04 - val_root_mean_squared_error: 0.0316\n",
      "Epoch 11/20\n",
      "59/59 [==============================] - 4s 60ms/step - loss: 5.0074e-04 - root_mean_squared_error: 0.0224 - val_loss: 9.8703e-04 - val_root_mean_squared_error: 0.0314\n",
      "Epoch 12/20\n",
      "59/59 [==============================] - 4s 59ms/step - loss: 4.8135e-04 - root_mean_squared_error: 0.0219 - val_loss: 9.9034e-04 - val_root_mean_squared_error: 0.0315\n",
      "Epoch 13/20\n",
      "59/59 [==============================] - 4s 65ms/step - loss: 4.6861e-04 - root_mean_squared_error: 0.0216 - val_loss: 9.8266e-04 - val_root_mean_squared_error: 0.0313\n",
      "Epoch 14/20\n",
      "59/59 [==============================] - 4s 62ms/step - loss: 4.5635e-04 - root_mean_squared_error: 0.0214 - val_loss: 9.8732e-04 - val_root_mean_squared_error: 0.0314\n",
      "Epoch 15/20\n",
      "59/59 [==============================] - 4s 66ms/step - loss: 4.4705e-04 - root_mean_squared_error: 0.0211 - val_loss: 9.7094e-04 - val_root_mean_squared_error: 0.0312\n",
      "Epoch 16/20\n",
      "59/59 [==============================] - 4s 63ms/step - loss: 4.4606e-04 - root_mean_squared_error: 0.0211 - val_loss: 9.7137e-04 - val_root_mean_squared_error: 0.0312\n",
      "Epoch 17/20\n",
      "59/59 [==============================] - 5s 76ms/step - loss: 4.3014e-04 - root_mean_squared_error: 0.0207 - val_loss: 9.4053e-04 - val_root_mean_squared_error: 0.0307\n",
      "Epoch 18/20\n",
      "59/59 [==============================] - 5s 79ms/step - loss: 4.2181e-04 - root_mean_squared_error: 0.0205 - val_loss: 9.5080e-04 - val_root_mean_squared_error: 0.0308\n",
      "Epoch 19/20\n",
      "59/59 [==============================] - 5s 80ms/step - loss: 4.1621e-04 - root_mean_squared_error: 0.0204 - val_loss: 9.3873e-04 - val_root_mean_squared_error: 0.0306\n",
      "Epoch 20/20\n",
      "59/59 [==============================] - 4s 68ms/step - loss: 4.0065e-04 - root_mean_squared_error: 0.0200 - val_loss: 9.4226e-04 - val_root_mean_squared_error: 0.0307\n",
      "29/29 [==============================] - 2s 30ms/step - loss: 9.3683e-04 - root_mean_squared_error: 0.0306\n",
      "Test RMSE: 0.0306\n"
     ]
    }
   ],
   "source": [
    "# Light Model\n",
    "inputs = keras.Input(shape=(sequence_length, input_shape))\n",
    "x = layers.Conv1D(8, 16, activation=\"relu\", padding=\"causal\")(inputs)\n",
    "x = layers.MaxPooling1D(2)(x)\n",
    "x = layers.Conv1D(8, 8, activation=\"relu\", padding=\"causal\")(x)\n",
    "x = layers.MaxPooling1D(2)(x)\n",
    "x = layers.Conv1D(8, 4, activation=\"relu\")(x)\n",
    "x = layers.GlobalAveragePooling1D()(x)\n",
    "outputs = layers.Dense(output_shape)(x)\n",
    "\n",
    "# Construct model and descent algorithm, train, and print test results\n",
    "model = keras.Model(inputs, outputs)\n",
    "callbacks = [\n",
    " keras.callbacks.ModelCheckpoint(save_dir + \"27_basic_conv1D.keras\",\n",
    " save_best_only=True)\n",
    "]\n",
    "model.compile(optimizer=\"rmsprop\", loss=\"mse\", metrics=[tf.keras.metrics.RootMeanSquaredError()])\n",
    "history = model.fit(trn,\n",
    " epochs=20,\n",
    " validation_data=val,\n",
    " callbacks=callbacks)\n",
    "model = keras.models.load_model(save_dir + \"27_basic_conv1D.keras\")\n",
    "print(f\"Test RMSE: {model.evaluate(tst)[1]:.4f}\")"
   ]
  },
  {
   "cell_type": "code",
   "execution_count": 11,
   "metadata": {},
   "outputs": [
    {
     "name": "stdout",
     "output_type": "stream",
     "text": [
      "29/29 [==============================] - 1s 31ms/step - loss: 9.3683e-04 - root_mean_squared_error: 0.0306\n",
      "Test RMSE: 0.0306\n",
      "Model: \"model_3\"\n",
      "_________________________________________________________________\n",
      " Layer (type)                Output Shape              Param #   \n",
      "=================================================================\n",
      " input_4 (InputLayer)        [(None, 100, 12)]         0         \n",
      "                                                                 \n",
      " conv1d (Conv1D)             (None, 100, 8)            1544      \n",
      "                                                                 \n",
      " max_pooling1d (MaxPooling1D  (None, 50, 8)            0         \n",
      " )                                                               \n",
      "                                                                 \n",
      " conv1d_1 (Conv1D)           (None, 50, 8)             520       \n",
      "                                                                 \n",
      " max_pooling1d_1 (MaxPooling  (None, 25, 8)            0         \n",
      " 1D)                                                             \n",
      "                                                                 \n",
      " conv1d_2 (Conv1D)           (None, 22, 8)             264       \n",
      "                                                                 \n",
      " global_average_pooling1d (G  (None, 8)                0         \n",
      " lobalAveragePooling1D)                                          \n",
      "                                                                 \n",
      " dense_14 (Dense)            (None, 3)                 27        \n",
      "                                                                 \n",
      "=================================================================\n",
      "Total params: 2,355\n",
      "Trainable params: 2,355\n",
      "Non-trainable params: 0\n",
      "_________________________________________________________________\n",
      "None\n"
     ]
    },
    {
     "data": {
      "image/png": "[encoded data removed]",
      "text/plain": [
       "<Figure size 432x288 with 1 Axes>"
      ]
     },
     "metadata": {
      "needs_background": "light"
     },
     "output_type": "display_data"
    }
   ],
   "source": [
    "lib.model_summary(model, history, tst)"
   ]
  },
  {
   "cell_type": "markdown",
   "metadata": {},
   "source": [
    "LSTM:"
   ]
  },
  {
   "cell_type": "code",
   "execution_count": 12,
   "metadata": {},
   "outputs": [
    {
     "name": "stdout",
     "output_type": "stream",
     "text": [
      "Epoch 1/20\n",
      "59/59 [==============================] - 29s 269ms/step - loss: 0.0118 - root_mean_squared_error: 0.1086 - val_loss: 0.0062 - val_root_mean_squared_error: 0.0787\n",
      "Epoch 2/20\n",
      "59/59 [==============================] - 11s 180ms/step - loss: 0.0036 - root_mean_squared_error: 0.0597 - val_loss: 0.0032 - val_root_mean_squared_error: 0.0563\n",
      "Epoch 3/20\n",
      "59/59 [==============================] - 11s 181ms/step - loss: 0.0022 - root_mean_squared_error: 0.0469 - val_loss: 0.0024 - val_root_mean_squared_error: 0.0489\n",
      "Epoch 4/20\n",
      "59/59 [==============================] - 11s 186ms/step - loss: 0.0016 - root_mean_squared_error: 0.0402 - val_loss: 0.0020 - val_root_mean_squared_error: 0.0449\n",
      "Epoch 5/20\n",
      "59/59 [==============================] - 10s 178ms/step - loss: 0.0013 - root_mean_squared_error: 0.0358 - val_loss: 0.0018 - val_root_mean_squared_error: 0.0424\n",
      "Epoch 6/20\n",
      "59/59 [==============================] - 10s 166ms/step - loss: 0.0011 - root_mean_squared_error: 0.0326 - val_loss: 0.0016 - val_root_mean_squared_error: 0.0406\n",
      "Epoch 7/20\n",
      "59/59 [==============================] - 10s 176ms/step - loss: 9.2025e-04 - root_mean_squared_error: 0.0303 - val_loss: 0.0015 - val_root_mean_squared_error: 0.0393\n",
      "Epoch 8/20\n",
      "59/59 [==============================] - 11s 187ms/step - loss: 8.2053e-04 - root_mean_squared_error: 0.0286 - val_loss: 0.0015 - val_root_mean_squared_error: 0.0383\n",
      "Epoch 9/20\n",
      "59/59 [==============================] - 12s 205ms/step - loss: 7.4997e-04 - root_mean_squared_error: 0.0274 - val_loss: 0.0014 - val_root_mean_squared_error: 0.0375\n",
      "Epoch 10/20\n",
      "59/59 [==============================] - 11s 190ms/step - loss: 6.9970e-04 - root_mean_squared_error: 0.0265 - val_loss: 0.0014 - val_root_mean_squared_error: 0.0369\n",
      "Epoch 11/20\n",
      "59/59 [==============================] - 14s 234ms/step - loss: 6.6266e-04 - root_mean_squared_error: 0.0257 - val_loss: 0.0013 - val_root_mean_squared_error: 0.0364\n",
      "Epoch 12/20\n",
      "59/59 [==============================] - 11s 194ms/step - loss: 6.3392e-04 - root_mean_squared_error: 0.0252 - val_loss: 0.0013 - val_root_mean_squared_error: 0.0360\n",
      "Epoch 13/20\n",
      "59/59 [==============================] - 9s 150ms/step - loss: 6.1107e-04 - root_mean_squared_error: 0.0247 - val_loss: 0.0013 - val_root_mean_squared_error: 0.0357\n",
      "Epoch 14/20\n",
      "59/59 [==============================] - 10s 162ms/step - loss: 5.9156e-04 - root_mean_squared_error: 0.0243 - val_loss: 0.0013 - val_root_mean_squared_error: 0.0354\n",
      "Epoch 15/20\n",
      "59/59 [==============================] - 11s 186ms/step - loss: 5.7549e-04 - root_mean_squared_error: 0.0240 - val_loss: 0.0012 - val_root_mean_squared_error: 0.0352\n",
      "Epoch 16/20\n",
      "59/59 [==============================] - 11s 184ms/step - loss: 5.5980e-04 - root_mean_squared_error: 0.0237 - val_loss: 0.0012 - val_root_mean_squared_error: 0.0351\n",
      "Epoch 17/20\n",
      "59/59 [==============================] - 14s 231ms/step - loss: 5.4813e-04 - root_mean_squared_error: 0.0234 - val_loss: 0.0012 - val_root_mean_squared_error: 0.0349\n",
      "Epoch 18/20\n",
      "59/59 [==============================] - 12s 196ms/step - loss: 5.3352e-04 - root_mean_squared_error: 0.0231 - val_loss: 0.0012 - val_root_mean_squared_error: 0.0348\n",
      "Epoch 19/20\n",
      "59/59 [==============================] - 11s 179ms/step - loss: 5.2383e-04 - root_mean_squared_error: 0.0229 - val_loss: 0.0012 - val_root_mean_squared_error: 0.0345\n",
      "Epoch 20/20\n",
      "59/59 [==============================] - 11s 182ms/step - loss: 5.0713e-04 - root_mean_squared_error: 0.0225 - val_loss: 0.0012 - val_root_mean_squared_error: 0.0345\n",
      "29/29 [==============================] - 4s 67ms/step - loss: 0.0017 - root_mean_squared_error: 0.0412\n",
      "Test RMSE: 0.0412\n"
     ]
    }
   ],
   "source": [
    "# Basic LSTM\n",
    "inputs = keras.Input(shape=(sequence_length, input_shape))\n",
    "x = layers.LSTM(32)(inputs)\n",
    "outputs = layers.Dense(output_shape)(x)\n",
    "\n",
    "# Construct model and descent algorithm, train, and print test results\n",
    "model = keras.Model(inputs, outputs)\n",
    "callbacks = [\n",
    " keras.callbacks.ModelCheckpoint(save_dir + \"27_basic_LSTM.keras\",\n",
    " save_best_only=True)\n",
    "]\n",
    "model.compile(optimizer=\"rmsprop\", loss=\"mse\", metrics=[tf.keras.metrics.RootMeanSquaredError()])\n",
    "history = model.fit(trn,\n",
    " epochs=20,\n",
    " validation_data=val,\n",
    " callbacks=callbacks)\n",
    "model = keras.models.load_model(save_dir + \"27_basic_LSTM.keras\") \n",
    "print(f\"Test RMSE: {model.evaluate(tst)[1]:.4f}\")"
   ]
  },
  {
   "cell_type": "code",
   "execution_count": 13,
   "metadata": {},
   "outputs": [
    {
     "name": "stdout",
     "output_type": "stream",
     "text": [
      "29/29 [==============================] - 2s 65ms/step - loss: 0.0017 - root_mean_squared_error: 0.0412\n",
      "Test RMSE: 0.0412\n",
      "Model: \"model_4\"\n",
      "_________________________________________________________________\n",
      " Layer (type)                Output Shape              Param #   \n",
      "=================================================================\n",
      " input_5 (InputLayer)        [(None, 100, 12)]         0         \n",
      "                                                                 \n",
      " lstm (LSTM)                 (None, 32)                5760      \n",
      "                                                                 \n",
      " dense_15 (Dense)            (None, 3)                 99        \n",
      "                                                                 \n",
      "=================================================================\n",
      "Total params: 5,859\n",
      "Trainable params: 5,859\n",
      "Non-trainable params: 0\n",
      "_________________________________________________________________\n",
      "None\n"
     ]
    },
    {
     "data": {
      "image/png": "[encoded data removed]",
      "text/plain": [
       "<Figure size 432x288 with 1 Axes>"
      ]
     },
     "metadata": {
      "needs_background": "light"
     },
     "output_type": "display_data"
    }
   ],
   "source": [
    "lib.model_summary(model, history, tst)"
   ]
  },
  {
   "cell_type": "markdown",
   "metadata": {},
   "source": [
    "GRU:"
   ]
  },
  {
   "cell_type": "code",
   "execution_count": 15,
   "metadata": {},
   "outputs": [
    {
     "name": "stdout",
     "output_type": "stream",
     "text": [
      "Epoch 1/10\n",
      "59/59 [==============================] - 63s 431ms/step - loss: 0.0392 - root_mean_squared_error: 0.1980 - val_loss: 0.0040 - val_root_mean_squared_error: 0.0636\n",
      "Epoch 2/10\n",
      "59/59 [==============================] - 22s 374ms/step - loss: 0.0085 - root_mean_squared_error: 0.0922 - val_loss: 0.0014 - val_root_mean_squared_error: 0.0374\n",
      "Epoch 3/10\n",
      "59/59 [==============================] - 23s 385ms/step - loss: 0.0023 - root_mean_squared_error: 0.0481 - val_loss: 9.5727e-04 - val_root_mean_squared_error: 0.0309\n",
      "Epoch 4/10\n",
      "59/59 [==============================] - 23s 382ms/step - loss: 0.0011 - root_mean_squared_error: 0.0325 - val_loss: 8.8773e-04 - val_root_mean_squared_error: 0.0298\n",
      "Epoch 5/10\n",
      "59/59 [==============================] - 27s 455ms/step - loss: 7.4379e-04 - root_mean_squared_error: 0.0273 - val_loss: 8.7705e-04 - val_root_mean_squared_error: 0.0296\n",
      "Epoch 6/10\n",
      "59/59 [==============================] - 28s 479ms/step - loss: 6.5858e-04 - root_mean_squared_error: 0.0257 - val_loss: 8.7394e-04 - val_root_mean_squared_error: 0.0296\n",
      "Epoch 7/10\n",
      "59/59 [==============================] - 29s 488ms/step - loss: 6.3254e-04 - root_mean_squared_error: 0.0252 - val_loss: 8.7670e-04 - val_root_mean_squared_error: 0.0296\n",
      "Epoch 8/10\n",
      "59/59 [==============================] - 23s 385ms/step - loss: 6.2355e-04 - root_mean_squared_error: 0.0250 - val_loss: 8.7776e-04 - val_root_mean_squared_error: 0.0296\n",
      "Epoch 9/10\n",
      "59/59 [==============================] - 17s 283ms/step - loss: 6.1939e-04 - root_mean_squared_error: 0.0249 - val_loss: 8.8021e-04 - val_root_mean_squared_error: 0.0297\n",
      "Epoch 10/10\n",
      "59/59 [==============================] - 475s 8s/step - loss: 6.1759e-04 - root_mean_squared_error: 0.0249 - val_loss: 8.8109e-04 - val_root_mean_squared_error: 0.0297\n"
     ]
    }
   ],
   "source": [
    "# Basic Stacked GRU\n",
    "do = 0.8\n",
    "inputs = keras.Input(shape=(sequence_length, input_shape))\n",
    "x = layers.GRU(4, recurrent_dropout=do, return_sequences=True)(inputs)\n",
    "x = layers.GRU(4, recurrent_dropout=do, return_sequences=True)(x)\n",
    "x = layers.GRU(4, recurrent_dropout=do)(x)\n",
    "x = layers.Dropout(do)(x)\n",
    "x = layers.Dense(4)(x)\n",
    "outputs = layers.Dense(output_shape)(x)\n",
    "\n",
    "# Construct model and descent algorithm, train, and print test results\n",
    "model = keras.Model(inputs, outputs)\n",
    "callbacks = [\n",
    " keras.callbacks.ModelCheckpoint(save_dir + \"27_basic_stacked_GRU.keras\",\n",
    " save_best_only=True)\n",
    "]\n",
    "model.compile(optimizer=\"rmsprop\", loss=\"mse\", metrics=[tf.keras.metrics.RootMeanSquaredError()])\n",
    "history = model.fit(trn,\n",
    " epochs=10,\n",
    " validation_data=val,\n",
    " callbacks=callbacks)\n",
    "model = keras.models.load_model(save_dir + \"27_basic_stacked_GRU.keras\")"
   ]
  },
  {
   "cell_type": "code",
   "execution_count": 16,
   "metadata": {},
   "outputs": [
    {
     "name": "stdout",
     "output_type": "stream",
     "text": [
      "29/29 [==============================] - 6s 53ms/step - loss: 7.1719e-04 - root_mean_squared_error: 0.0268\n",
      "Test RMSE: 0.0268\n",
      "Model: \"model_6\"\n",
      "_________________________________________________________________\n",
      " Layer (type)                Output Shape              Param #   \n",
      "=================================================================\n",
      " input_7 (InputLayer)        [(None, 100, 12)]         0         \n",
      "                                                                 \n",
      " gru_3 (GRU)                 (None, 100, 4)            216       \n",
      "                                                                 \n",
      " gru_4 (GRU)                 (None, 100, 4)            120       \n",
      "                                                                 \n",
      " gru_5 (GRU)                 (None, 4)                 120       \n",
      "                                                                 \n",
      " dropout_1 (Dropout)         (None, 4)                 0         \n",
      "                                                                 \n",
      " dense_18 (Dense)            (None, 4)                 20        \n",
      "                                                                 \n",
      " dense_19 (Dense)            (None, 3)                 15        \n",
      "                                                                 \n",
      "=================================================================\n",
      "Total params: 491\n",
      "Trainable params: 491\n",
      "Non-trainable params: 0\n",
      "_________________________________________________________________\n",
      "None\n"
     ]
    },
    {
     "data": {
      "image/png": "[encoded data removed]",
      "text/plain": [
       "<Figure size 432x288 with 1 Axes>"
      ]
     },
     "metadata": {
      "needs_background": "light"
     },
     "output_type": "display_data"
    }
   ],
   "source": [
    "lib.model_summary(model, history, tst)"
   ]
  },
  {
   "cell_type": "markdown",
   "metadata": {},
   "source": [
    "Models from Literature"
   ]
  },
  {
   "cell_type": "markdown",
   "metadata": {},
   "source": [
    "Nguyen (2021): (Classification?)"
   ]
  },
  {
   "cell_type": "code",
   "execution_count": 17,
   "metadata": {},
   "outputs": [
    {
     "name": "stdout",
     "output_type": "stream",
     "text": [
      "Epoch 1/10\n",
      "59/59 [==============================] - 251s 4s/step - loss: 0.0201 - root_mean_squared_error: 0.1419 - val_loss: 0.0055 - val_root_mean_squared_error: 0.0744\n",
      "Epoch 2/10\n",
      "59/59 [==============================] - 246s 4s/step - loss: 0.0106 - root_mean_squared_error: 0.1028 - val_loss: 0.0060 - val_root_mean_squared_error: 0.0771\n",
      "Epoch 3/10\n",
      "59/59 [==============================] - 2805s 48s/step - loss: 0.0072 - root_mean_squared_error: 0.0851 - val_loss: 0.0037 - val_root_mean_squared_error: 0.0611\n",
      "Epoch 4/10\n",
      "59/59 [==============================] - 529s 9s/step - loss: 0.0054 - root_mean_squared_error: 0.0736 - val_loss: 0.0032 - val_root_mean_squared_error: 0.0565\n",
      "Epoch 5/10\n",
      "59/59 [==============================] - 506s 9s/step - loss: 0.0046 - root_mean_squared_error: 0.0675 - val_loss: 0.0032 - val_root_mean_squared_error: 0.0563\n",
      "Epoch 6/10\n",
      "59/59 [==============================] - 475s 8s/step - loss: 0.0039 - root_mean_squared_error: 0.0623 - val_loss: 0.0026 - val_root_mean_squared_error: 0.0505\n",
      "Epoch 7/10\n",
      "59/59 [==============================] - 456s 8s/step - loss: 0.0034 - root_mean_squared_error: 0.0585 - val_loss: 0.0028 - val_root_mean_squared_error: 0.0533\n",
      "Epoch 8/10\n",
      "59/59 [==============================] - 463s 8s/step - loss: 0.0031 - root_mean_squared_error: 0.0561 - val_loss: 0.0024 - val_root_mean_squared_error: 0.0486\n",
      "Epoch 9/10\n",
      "59/59 [==============================] - 464s 8s/step - loss: 0.0029 - root_mean_squared_error: 0.0538 - val_loss: 0.0022 - val_root_mean_squared_error: 0.0474\n",
      "Epoch 10/10\n",
      "59/59 [==============================] - 465s 8s/step - loss: 0.0027 - root_mean_squared_error: 0.0521 - val_loss: 0.0024 - val_root_mean_squared_error: 0.0485\n",
      "29/29 [==============================] - 51s 2s/step - loss: 0.0022 - root_mean_squared_error: 0.0469\n",
      "Test RMSE: 0.0469\n"
     ]
    }
   ],
   "source": [
    "inputs = keras.Input(shape=(sequence_length, input_shape))\n",
    "\n",
    "# Convolutional layer\n",
    "x = layers.Conv1D(64, 3, activation=\"relu\", padding=\"causal\")(inputs)\n",
    "x = layers.BatchNormalization()(x)\n",
    "\n",
    "# Recurrent layers\n",
    "x = layers.GRU(512, dropout = 0.5, recurrent_dropout = 0.6, return_sequences = True)(x)\n",
    "x = layers.GRU(512, dropout = 0.5, recurrent_dropout = 0.6)(x)\n",
    "\n",
    "# Output layer\n",
    "x = layers.Dense(256, activation=\"relu\")(x)\n",
    "outputs = layers.Dense(output_shape)(x)\n",
    "\n",
    "# Construct model and descent algorithm, train, and print test results\n",
    "model = keras.Model(inputs, outputs)\n",
    "callbacks = [\n",
    " keras.callbacks.ModelCheckpoint(save_dir + \"27_Nguyen_GRU.keras\",\n",
    " save_best_only=True)\n",
    "]\n",
    "opt = tf.keras.optimizers.Adam(learning_rate=0.0001,\n",
    "    beta_1=0.99,\n",
    "    beta_2=0.999,\n",
    "    epsilon=1e-05,\n",
    ")\n",
    "model.compile(optimizer=opt, loss=\"mse\", metrics=[tf.keras.metrics.RootMeanSquaredError()])\n",
    "history = model.fit(trn,\n",
    " epochs=10,\n",
    " validation_data=val,\n",
    " batch_size=64,\n",
    " callbacks=callbacks)\n",
    "model = keras.models.load_model(save_dir + \"27_Nguyen_GRU.keras\")\n",
    "print(f\"Test RMSE: {model.evaluate(tst)[1]:.4f}\")"
   ]
  },
  {
   "cell_type": "code",
   "execution_count": 18,
   "metadata": {},
   "outputs": [
    {
     "name": "stdout",
     "output_type": "stream",
     "text": [
      "29/29 [==============================] - 47s 2s/step - loss: 0.0022 - root_mean_squared_error: 0.0469\n",
      "Test RMSE: 0.0469\n",
      "Model: \"model_7\"\n",
      "_________________________________________________________________\n",
      " Layer (type)                Output Shape              Param #   \n",
      "=================================================================\n",
      " input_8 (InputLayer)        [(None, 100, 12)]         0         \n",
      "                                                                 \n",
      " conv1d_3 (Conv1D)           (None, 100, 64)           2368      \n",
      "                                                                 \n",
      " batch_normalization (BatchN  (None, 100, 64)          256       \n",
      " ormalization)                                                   \n",
      "                                                                 \n",
      " gru_6 (GRU)                 (None, 100, 512)          887808    \n",
      "                                                                 \n",
      " gru_7 (GRU)                 (None, 512)               1575936   \n",
      "                                                                 \n",
      " dense_20 (Dense)            (None, 256)               131328    \n",
      "                                                                 \n",
      " dense_21 (Dense)            (None, 3)                 771       \n",
      "                                                                 \n",
      "=================================================================\n",
      "Total params: 2,598,467\n",
      "Trainable params: 2,598,339\n",
      "Non-trainable params: 128\n",
      "_________________________________________________________________\n",
      "None\n"
     ]
    },
    {
     "data": {
      "image/png": "[encoded data removed]",
      "text/plain": [
       "<Figure size 432x288 with 1 Axes>"
      ]
     },
     "metadata": {
      "needs_background": "light"
     },
     "output_type": "display_data"
    }
   ],
   "source": [
    "lib.model_summary(model, history, tst)"
   ]
  },
  {
   "cell_type": "markdown",
   "metadata": {},
   "source": [
    "More brilliance from Nguyen:"
   ]
  },
  {
   "cell_type": "markdown",
   "metadata": {},
   "source": [
    "Periodgram is used as input in literature, but in this case is relatively sparse of information."
   ]
  },
  {
   "cell_type": "code",
   "execution_count": null,
   "metadata": {},
   "outputs": [],
   "source": [
    "import scipy.signal as signal\n",
    "import matplotlib.pyplot as plt\n",
    "\n",
    "print(emgF.shape)\n",
    "\n",
    "# Raw signals\n",
    "lib.plot_emg(tF, emgF)\n",
    "fs = 1/np.mean(np.diff(tF))\n",
    "\n",
    "# Periodgram\n",
    "f, Pxx_den = signal.periodogram(emgF[:,11], fs)\n",
    "plt.semilogy(f, Pxx_den)\n",
    "plt.xlabel('frequency [Hz]')\n",
    "plt.ylabel('PSD [V**2/Hz]')\n",
    "plt.show()\n",
    "\n",
    "# Spectrogram\n",
    "f, t, Sxx = signal.spectrogram(emgF[:,10], fs, axis=0)\n",
    "print(Sxx.shape)\n",
    "# plt.pcolormesh(t, f, Sxx[:,0,:])\n",
    "plt.pcolormesh(t, f, Sxx)\n",
    "plt.ylabel('Frequency [Hz]')\n",
    "plt.xlabel('Time [sec]')\n",
    "plt.show()\n"
   ]
  },
  {
   "cell_type": "code",
   "execution_count": 20,
   "metadata": {},
   "outputs": [
    {
     "name": "stdout",
     "output_type": "stream",
     "text": [
      "Epoch 1/10\n",
      "59/59 [==============================] - ETA: 0s - loss: 0.1703 - root_mean_squared_error: 0.4127"
     ]
    },
    {
     "name": "stderr",
     "output_type": "stream",
     "text": [
      "C:\\Users\\nsshi\\AppData\\Local\\Packages\\PythonSoftwareFoundation.Python.3.9_qbz5n2kfra8p0\\LocalCache\\local-packages\\Python39\\site-packages\\keras\\engine\\functional.py:1410: CustomMaskWarning: Custom mask layers require a config and must override get_config. When loading, the custom mask layer must be passed to the custom_objects argument.\n",
      "  layer_config = serialize_layer_fn(layer)\n"
     ]
    },
    {
     "name": "stdout",
     "output_type": "stream",
     "text": [
      "59/59 [==============================] - 49s 434ms/step - loss: 0.1703 - root_mean_squared_error: 0.4127 - val_loss: 0.0795 - val_root_mean_squared_error: 0.2819\n",
      "Epoch 2/10\n",
      "59/59 [==============================] - 20s 334ms/step - loss: 0.0485 - root_mean_squared_error: 0.2201 - val_loss: 0.0268 - val_root_mean_squared_error: 0.1639\n",
      "Epoch 3/10\n",
      "59/59 [==============================] - 21s 356ms/step - loss: 0.0199 - root_mean_squared_error: 0.1411 - val_loss: 0.0142 - val_root_mean_squared_error: 0.1193\n",
      "Epoch 4/10\n",
      "59/59 [==============================] - 19s 328ms/step - loss: 0.0128 - root_mean_squared_error: 0.1132 - val_loss: 0.0107 - val_root_mean_squared_error: 0.1036\n",
      "Epoch 5/10\n",
      "59/59 [==============================] - 21s 357ms/step - loss: 0.0106 - root_mean_squared_error: 0.1028 - val_loss: 0.0095 - val_root_mean_squared_error: 0.0973\n",
      "Epoch 6/10\n",
      "59/59 [==============================] - 21s 361ms/step - loss: 0.0097 - root_mean_squared_error: 0.0984 - val_loss: 0.0089 - val_root_mean_squared_error: 0.0944\n",
      "Epoch 7/10\n",
      "59/59 [==============================] - 19s 321ms/step - loss: 0.0093 - root_mean_squared_error: 0.0962 - val_loss: 0.0086 - val_root_mean_squared_error: 0.0928\n",
      "Epoch 8/10\n",
      "59/59 [==============================] - 20s 343ms/step - loss: 0.0090 - root_mean_squared_error: 0.0950 - val_loss: 0.0084 - val_root_mean_squared_error: 0.0918\n",
      "Epoch 9/10\n",
      "59/59 [==============================] - 20s 333ms/step - loss: 0.0089 - root_mean_squared_error: 0.0942 - val_loss: 0.0083 - val_root_mean_squared_error: 0.0912\n",
      "Epoch 10/10\n",
      "59/59 [==============================] - 21s 355ms/step - loss: 0.0088 - root_mean_squared_error: 0.0937 - val_loss: 0.0082 - val_root_mean_squared_error: 0.0908\n",
      "29/29 [==============================] - 7s 82ms/step - loss: 0.0080 - root_mean_squared_error: 0.0895\n",
      "Test RMSE: 0.0895\n"
     ]
    }
   ],
   "source": [
    "inputs = keras.Input(shape=(sequence_length, input_shape))\n",
    "\n",
    "# Input Layer\n",
    "x = layers.Conv1D(32, 3, padding=\"causal\")(inputs)\n",
    "x = layers.BatchNormalization()(x)\n",
    "x0 = layers.ReLU()(x)\n",
    "\n",
    "# Residual layer helper function\n",
    "def res(x0):\n",
    "    x1 = layers.AveragePooling1D(pool_size=2, strides=2)(x0)\n",
    "    x = layers.Conv1D(32, 3, strides = 2, padding=\"causal\")(x0)\n",
    "    x = layers.BatchNormalization()(x)\n",
    "    x = layers.ReLU()(x)\n",
    "    x = layers.Conv1D(32, 3, padding=\"causal\")(x)\n",
    "    x = layers.Add()([x, x1])\n",
    "    x = layers.BatchNormalization()(x)\n",
    "    x0 = layers.ReLU()(x)\n",
    "\n",
    "    x1 = layers.AveragePooling1D(pool_size=2, strides=2)(x0)\n",
    "    x = layers.Conv1D(32, 3, strides = 1, padding=\"causal\")(x0)\n",
    "    x = layers.BatchNormalization()(x)\n",
    "    x = layers.ReLU()(x)\n",
    "    x = layers.Conv1D(32, 3, padding=\"causal\")(x)\n",
    "    x = layers.Add()([x, x0])\n",
    "    x = layers.BatchNormalization()(x)\n",
    "    x = layers.ReLU()(x)\n",
    "    x0 = layers.Dropout(0.1)(x)\n",
    "    return x0\n",
    "\n",
    "# Residual layers (Nguyen uses five, but has larger input dimensions)\n",
    "x0 = res(x0)\n",
    "x0 = res(x0)\n",
    "\n",
    "# Recurrent layers\n",
    "x = layers.GRU(64, dropout = 0.2, recurrent_dropout = 0, return_sequences = True)(x0)\n",
    "x1 = layers.GRU(64, dropout = 0.2, recurrent_dropout = 0)(x)\n",
    "\n",
    "# Attention layers\n",
    "x = layers.Dense(64, activation=\"relu\")(x1)\n",
    "x = layers.Dense(1)(x)\n",
    "x = layers.Multiply()([x, x1])\n",
    "x = layers.Softmax()(x)\n",
    "\n",
    "# Output layer\n",
    "outputs = layers.Dense(output_shape, activation=\"sigmoid\")(x)\n",
    "\n",
    "# Construct model and descent algorithm, train, and print test results\n",
    "model = keras.Model(inputs, outputs)\n",
    "callbacks = [\n",
    " keras.callbacks.ModelCheckpoint(save_dir + \"27_Nguyen_Stacked.keras\",\n",
    " save_best_only=True)\n",
    "]\n",
    "opt = tf.keras.optimizers.Adam(learning_rate=0.01,\n",
    "    beta_1=0.99,\n",
    "    beta_2=0.999,\n",
    "    epsilon=1e-05,\n",
    ")\n",
    "model.compile(optimizer=opt, loss=\"mse\", metrics=[tf.keras.metrics.RootMeanSquaredError()])\n",
    "history = model.fit(trn,\n",
    " epochs=10,\n",
    " validation_data=val,\n",
    " batch_size=64,\n",
    " callbacks=callbacks)\n",
    "model = keras.models.load_model(save_dir + \"27_Nguyen_Stacked.keras\")\n",
    "print(f\"Test RMSE: {model.evaluate(tst)[1]:.4f}\")"
   ]
  },
  {
   "cell_type": "code",
   "execution_count": 21,
   "metadata": {},
   "outputs": [
    {
     "name": "stdout",
     "output_type": "stream",
     "text": [
      "29/29 [==============================] - 3s 78ms/step - loss: 0.0080 - root_mean_squared_error: 0.0895\n",
      "Test RMSE: 0.0895\n",
      "Model: \"model_8\"\n",
      "__________________________________________________________________________________________________\n",
      " Layer (type)                   Output Shape         Param #     Connected to                     \n",
      "==================================================================================================\n",
      " input_9 (InputLayer)           [(None, 100, 12)]    0           []                               \n",
      "                                                                                                  \n",
      " conv1d_4 (Conv1D)              (None, 100, 32)      1184        ['input_9[0][0]']                \n",
      "                                                                                                  \n",
      " batch_normalization_1 (BatchNo  (None, 100, 32)     128         ['conv1d_4[0][0]']               \n",
      " rmalization)                                                                                     \n",
      "                                                                                                  \n",
      " re_lu (ReLU)                   (None, 100, 32)      0           ['batch_normalization_1[0][0]']  \n",
      "                                                                                                  \n",
      " conv1d_5 (Conv1D)              (None, 50, 32)       3104        ['re_lu[0][0]']                  \n",
      "                                                                                                  \n",
      " batch_normalization_2 (BatchNo  (None, 50, 32)      128         ['conv1d_5[0][0]']               \n",
      " rmalization)                                                                                     \n",
      "                                                                                                  \n",
      " re_lu_1 (ReLU)                 (None, 50, 32)       0           ['batch_normalization_2[0][0]']  \n",
      "                                                                                                  \n",
      " conv1d_6 (Conv1D)              (None, 50, 32)       3104        ['re_lu_1[0][0]']                \n",
      "                                                                                                  \n",
      " average_pooling1d (AveragePool  (None, 50, 32)      0           ['re_lu[0][0]']                  \n",
      " ing1D)                                                                                           \n",
      "                                                                                                  \n",
      " add (Add)                      (None, 50, 32)       0           ['conv1d_6[0][0]',               \n",
      "                                                                  'average_pooling1d[0][0]']      \n",
      "                                                                                                  \n",
      " batch_normalization_3 (BatchNo  (None, 50, 32)      128         ['add[0][0]']                    \n",
      " rmalization)                                                                                     \n",
      "                                                                                                  \n",
      " re_lu_2 (ReLU)                 (None, 50, 32)       0           ['batch_normalization_3[0][0]']  \n",
      "                                                                                                  \n",
      " conv1d_7 (Conv1D)              (None, 50, 32)       3104        ['re_lu_2[0][0]']                \n",
      "                                                                                                  \n",
      " batch_normalization_4 (BatchNo  (None, 50, 32)      128         ['conv1d_7[0][0]']               \n",
      " rmalization)                                                                                     \n",
      "                                                                                                  \n",
      " re_lu_3 (ReLU)                 (None, 50, 32)       0           ['batch_normalization_4[0][0]']  \n",
      "                                                                                                  \n",
      " conv1d_8 (Conv1D)              (None, 50, 32)       3104        ['re_lu_3[0][0]']                \n",
      "                                                                                                  \n",
      " add_1 (Add)                    (None, 50, 32)       0           ['conv1d_8[0][0]',               \n",
      "                                                                  're_lu_2[0][0]']                \n",
      "                                                                                                  \n",
      " batch_normalization_5 (BatchNo  (None, 50, 32)      128         ['add_1[0][0]']                  \n",
      " rmalization)                                                                                     \n",
      "                                                                                                  \n",
      " re_lu_4 (ReLU)                 (None, 50, 32)       0           ['batch_normalization_5[0][0]']  \n",
      "                                                                                                  \n",
      " dropout_2 (Dropout)            (None, 50, 32)       0           ['re_lu_4[0][0]']                \n",
      "                                                                                                  \n",
      " conv1d_9 (Conv1D)              (None, 25, 32)       3104        ['dropout_2[0][0]']              \n",
      "                                                                                                  \n",
      " batch_normalization_6 (BatchNo  (None, 25, 32)      128         ['conv1d_9[0][0]']               \n",
      " rmalization)                                                                                     \n",
      "                                                                                                  \n",
      " re_lu_5 (ReLU)                 (None, 25, 32)       0           ['batch_normalization_6[0][0]']  \n",
      "                                                                                                  \n",
      " conv1d_10 (Conv1D)             (None, 25, 32)       3104        ['re_lu_5[0][0]']                \n",
      "                                                                                                  \n",
      " average_pooling1d_2 (AveragePo  (None, 25, 32)      0           ['dropout_2[0][0]']              \n",
      " oling1D)                                                                                         \n",
      "                                                                                                  \n",
      " add_2 (Add)                    (None, 25, 32)       0           ['conv1d_10[0][0]',              \n",
      "                                                                  'average_pooling1d_2[0][0]']    \n",
      "                                                                                                  \n",
      " batch_normalization_7 (BatchNo  (None, 25, 32)      128         ['add_2[0][0]']                  \n",
      " rmalization)                                                                                     \n",
      "                                                                                                  \n",
      " re_lu_6 (ReLU)                 (None, 25, 32)       0           ['batch_normalization_7[0][0]']  \n",
      "                                                                                                  \n",
      " conv1d_11 (Conv1D)             (None, 25, 32)       3104        ['re_lu_6[0][0]']                \n",
      "                                                                                                  \n",
      " batch_normalization_8 (BatchNo  (None, 25, 32)      128         ['conv1d_11[0][0]']              \n",
      " rmalization)                                                                                     \n",
      "                                                                                                  \n",
      " re_lu_7 (ReLU)                 (None, 25, 32)       0           ['batch_normalization_8[0][0]']  \n",
      "                                                                                                  \n",
      " conv1d_12 (Conv1D)             (None, 25, 32)       3104        ['re_lu_7[0][0]']                \n",
      "                                                                                                  \n",
      " add_3 (Add)                    (None, 25, 32)       0           ['conv1d_12[0][0]',              \n",
      "                                                                  're_lu_6[0][0]']                \n",
      "                                                                                                  \n",
      " batch_normalization_9 (BatchNo  (None, 25, 32)      128         ['add_3[0][0]']                  \n",
      " rmalization)                                                                                     \n",
      "                                                                                                  \n",
      " re_lu_8 (ReLU)                 (None, 25, 32)       0           ['batch_normalization_9[0][0]']  \n",
      "                                                                                                  \n",
      " dropout_3 (Dropout)            (None, 25, 32)       0           ['re_lu_8[0][0]']                \n",
      "                                                                                                  \n",
      " gru_8 (GRU)                    (None, 25, 64)       18816       ['dropout_3[0][0]']              \n",
      "                                                                                                  \n",
      " gru_9 (GRU)                    (None, 64)           24960       ['gru_8[0][0]']                  \n",
      "                                                                                                  \n",
      " dense_22 (Dense)               (None, 64)           4160        ['gru_9[0][0]']                  \n",
      "                                                                                                  \n",
      " dense_23 (Dense)               (None, 1)            65          ['dense_22[0][0]']               \n",
      "                                                                                                  \n",
      " multiply (Multiply)            (None, 64)           0           ['dense_23[0][0]',               \n",
      "                                                                  'gru_9[0][0]']                  \n",
      "                                                                                                  \n",
      " softmax (Softmax)              (None, 64)           0           ['multiply[0][0]']               \n",
      "                                                                                                  \n",
      " dense_24 (Dense)               (None, 3)            195         ['softmax[0][0]']                \n",
      "                                                                                                  \n",
      "==================================================================================================\n",
      "Total params: 75,364\n",
      "Trainable params: 74,788\n",
      "Non-trainable params: 576\n",
      "__________________________________________________________________________________________________\n",
      "None\n"
     ]
    },
    {
     "data": {
      "image/png": "[encoded data removed]",
      "text/plain": [
       "<Figure size 432x288 with 1 Axes>"
      ]
     },
     "metadata": {
      "needs_background": "light"
     },
     "output_type": "display_data"
    }
   ],
   "source": [
    "lib.model_summary(model, history, tst)"
   ]
  },
  {
   "cell_type": "markdown",
   "metadata": {},
   "source": [
    "Luu (2021): Regression Convolutional Neural Network"
   ]
  },
  {
   "cell_type": "code",
   "execution_count": null,
   "metadata": {},
   "outputs": [],
   "source": [
    "inputs = keras.Input(shape=(sequence_length, input_shape))\n",
    "\n",
    "# Convolutional Layers\n",
    "# Layer 0\n",
    "x = layers.Conv1D(32, 3, strides = 1, padding=\"causal\")(inputs)\n",
    "x = layers.ReLU()(x)\n",
    "x = layers.BatchNormalization()(x)\n",
    "x = layers.Dropout(0.1)(x)\n",
    "\n",
    "# Layer 1\n",
    "x = layers.Conv1D(64, 3, strides = 2, padding=\"causal\")(x)\n",
    "x = layers.ReLU()(x)\n",
    "x = layers.BatchNormalization()(x)\n",
    "x = layers.Dropout(0.1)(x)\n",
    "\n",
    "# Layer 2\n",
    "x = layers.Conv1D(64, 3, strides = 1, padding=\"causal\")(x)\n",
    "x = layers.ReLU()(x)\n",
    "x = layers.BatchNormalization()(x)\n",
    "x = layers.Dropout(0.1)(x)\n",
    "\n",
    "# Layer 3\n",
    "x = layers.Conv1D(64, 3, strides = 1, padding=\"causal\")(x)\n",
    "x = layers.ReLU()(x)\n",
    "x = layers.BatchNormalization()(x)\n",
    "x = layers.Dropout(0.1)(x)\n",
    "\n",
    "# Layer 4\n",
    "x = layers.Conv1D(50, 3, strides = 1, padding=\"causal\")(x)\n",
    "x = layers.ReLU()(x)\n",
    "x = layers.BatchNormalization()(x)\n",
    "\n",
    "# Output\n",
    "x = layers.Flatten()(x)\n",
    "outputs = layers.Dense(output_shape)(x)\n",
    "\n",
    "# Construct model and descent algorithm, train, and print test results\n",
    "model = keras.Model(inputs, outputs)\n",
    "callbacks = [\n",
    " keras.callbacks.ModelCheckpoint(save_dir + \"27_Luu_Conv1D.keras\",\n",
    " save_best_only=True)\n",
    "]\n",
    "opt = tf.keras.optimizers.Adam(learning_rate=0.005,\n",
    "    beta_1=0.99,\n",
    "    beta_2=0.999,\n",
    "    epsilon=1e-05,\n",
    ")\n",
    "model.compile(optimizer='adam', loss=\"mse\", metrics=[tf.keras.metrics.RootMeanSquaredError()])\n",
    "history = model.fit(trn,\n",
    " epochs=5,\n",
    " validation_data=val,\n",
    " batch_size=64,\n",
    " callbacks=callbacks)\n",
    "model = keras.models.load_model(save_dir + \"27_Luu_Conv1D.keras\")\n",
    "print(f\"Test RMSE: {model.evaluate(tst)[1]:.4f}\")"
   ]
  },
  {
   "cell_type": "code",
   "execution_count": null,
   "metadata": {},
   "outputs": [],
   "source": [
    "lib.model_summary(model, history, tst)"
   ]
  },
  {
   "cell_type": "markdown",
   "metadata": {},
   "source": [
    "Luu (2021): Regression Recurrent Neural Network"
   ]
  },
  {
   "cell_type": "code",
   "execution_count": 24,
   "metadata": {},
   "outputs": [
    {
     "name": "stdout",
     "output_type": "stream",
     "text": [
      "Epoch 1/10\n",
      "59/59 [==============================] - 43s 389ms/step - loss: 0.0034 - root_mean_squared_error: 0.0583 - val_loss: 0.0012 - val_root_mean_squared_error: 0.0347\n",
      "Epoch 2/10\n",
      "59/59 [==============================] - 23s 386ms/step - loss: 0.0010 - root_mean_squared_error: 0.0317 - val_loss: 9.2615e-04 - val_root_mean_squared_error: 0.0304\n",
      "Epoch 3/10\n",
      "59/59 [==============================] - 23s 383ms/step - loss: 9.3251e-04 - root_mean_squared_error: 0.0305 - val_loss: 9.1527e-04 - val_root_mean_squared_error: 0.0303\n",
      "Epoch 4/10\n",
      "59/59 [==============================] - 21s 356ms/step - loss: 0.0010 - root_mean_squared_error: 0.0318 - val_loss: 0.0011 - val_root_mean_squared_error: 0.0333\n",
      "Epoch 5/10\n",
      "59/59 [==============================] - 23s 381ms/step - loss: 8.1287e-04 - root_mean_squared_error: 0.0285 - val_loss: 8.5907e-04 - val_root_mean_squared_error: 0.0293\n",
      "Epoch 6/10\n",
      "59/59 [==============================] - 19s 322ms/step - loss: 7.2323e-04 - root_mean_squared_error: 0.0269 - val_loss: 9.1985e-04 - val_root_mean_squared_error: 0.0303\n",
      "Epoch 7/10\n",
      "59/59 [==============================] - 23s 378ms/step - loss: 6.9146e-04 - root_mean_squared_error: 0.0263 - val_loss: 9.2637e-04 - val_root_mean_squared_error: 0.0304\n",
      "Epoch 8/10\n",
      "59/59 [==============================] - 22s 381ms/step - loss: 6.4967e-04 - root_mean_squared_error: 0.0255 - val_loss: 9.8399e-04 - val_root_mean_squared_error: 0.0314\n",
      "Epoch 9/10\n",
      "59/59 [==============================] - 22s 365ms/step - loss: 6.3354e-04 - root_mean_squared_error: 0.0252 - val_loss: 0.0010 - val_root_mean_squared_error: 0.0320\n",
      "Epoch 10/10\n",
      "59/59 [==============================] - 23s 386ms/step - loss: 6.0252e-04 - root_mean_squared_error: 0.0245 - val_loss: 0.0012 - val_root_mean_squared_error: 0.0340\n",
      "29/29 [==============================] - 6s 94ms/step - loss: 7.4822e-04 - root_mean_squared_error: 0.0274\n",
      "Test RMSE: 0.0274\n"
     ]
    }
   ],
   "source": [
    "inputs = keras.Input(shape=(sequence_length, input_shape))\n",
    "\n",
    "# Convolutional Layers\n",
    "# Layer 0\n",
    "x = layers.Conv1D(32, 3, strides = 1, padding=\"causal\")(inputs)\n",
    "x = layers.ReLU()(x)\n",
    "x = layers.BatchNormalization()(x)\n",
    "x = layers.Dropout(0.1)(x)\n",
    "\n",
    "# Layer 1\n",
    "x = layers.Conv1D(64, 3, strides = 2, padding=\"causal\")(x)\n",
    "x = layers.ReLU()(x)\n",
    "x = layers.BatchNormalization()(x)\n",
    "x = layers.Dropout(0.1)(x)\n",
    "\n",
    "# Layer 2\n",
    "x = layers.Conv1D(64, 3, strides = 1, padding=\"causal\")(x)\n",
    "x = layers.ReLU()(x)\n",
    "x = layers.BatchNormalization()(x)\n",
    "x = layers.Dropout(0.1)(x)\n",
    "\n",
    "x = layers.LSTM(64, dropout = 0.2, recurrent_dropout = 0, return_sequences = True)(x)\n",
    "outputs = layers.LSTM(output_shape, dropout = 0.2, recurrent_dropout = 0)(x)\n",
    "\n",
    "# Construct model and descent algorithm, train, and print test results\n",
    "model = keras.Model(inputs, outputs)\n",
    "callbacks = [\n",
    " keras.callbacks.ModelCheckpoint(save_dir + \"27_Luu_RNN.keras\",\n",
    " save_best_only=True)\n",
    "]\n",
    "opt = tf.keras.optimizers.Adam(learning_rate=0.005,\n",
    "    beta_1=0.99,\n",
    "    beta_2=0.999,\n",
    "    epsilon=1e-05,\n",
    ")\n",
    "model.compile(optimizer=opt, loss=\"mse\", metrics=[tf.keras.metrics.RootMeanSquaredError()])\n",
    "history = model.fit(trn,\n",
    " epochs=10,\n",
    " validation_data=val,\n",
    " batch_size=38,\n",
    " callbacks=callbacks)\n",
    "model = keras.models.load_model(save_dir + \"27_Luu_RNN.keras\")\n",
    "print(f\"Test RMSE: {model.evaluate(tst)[1]:.4f}\")"
   ]
  },
  {
   "cell_type": "code",
   "execution_count": 25,
   "metadata": {},
   "outputs": [
    {
     "name": "stdout",
     "output_type": "stream",
     "text": [
      "29/29 [==============================] - 2s 77ms/step - loss: 7.4822e-04 - root_mean_squared_error: 0.0274\n",
      "Test RMSE: 0.0274\n",
      "Model: \"model_10\"\n",
      "_________________________________________________________________\n",
      " Layer (type)                Output Shape              Param #   \n",
      "=================================================================\n",
      " input_11 (InputLayer)       [(None, 100, 12)]         0         \n",
      "                                                                 \n",
      " conv1d_18 (Conv1D)          (None, 100, 32)           1184      \n",
      "                                                                 \n",
      " re_lu_14 (ReLU)             (None, 100, 32)           0         \n",
      "                                                                 \n",
      " batch_normalization_15 (Bat  (None, 100, 32)          128       \n",
      " chNormalization)                                                \n",
      "                                                                 \n",
      " dropout_8 (Dropout)         (None, 100, 32)           0         \n",
      "                                                                 \n",
      " conv1d_19 (Conv1D)          (None, 50, 64)            6208      \n",
      "                                                                 \n",
      " re_lu_15 (ReLU)             (None, 50, 64)            0         \n",
      "                                                                 \n",
      " batch_normalization_16 (Bat  (None, 50, 64)           256       \n",
      " chNormalization)                                                \n",
      "                                                                 \n",
      " dropout_9 (Dropout)         (None, 50, 64)            0         \n",
      "                                                                 \n",
      " conv1d_20 (Conv1D)          (None, 50, 64)            12352     \n",
      "                                                                 \n",
      " re_lu_16 (ReLU)             (None, 50, 64)            0         \n",
      "                                                                 \n",
      " batch_normalization_17 (Bat  (None, 50, 64)           256       \n",
      " chNormalization)                                                \n",
      "                                                                 \n",
      " dropout_10 (Dropout)        (None, 50, 64)            0         \n",
      "                                                                 \n",
      " lstm_1 (LSTM)               (None, 50, 64)            33024     \n",
      "                                                                 \n",
      " lstm_2 (LSTM)               (None, 3)                 816       \n",
      "                                                                 \n",
      "=================================================================\n",
      "Total params: 54,224\n",
      "Trainable params: 53,904\n",
      "Non-trainable params: 320\n",
      "_________________________________________________________________\n",
      "None\n"
     ]
    },
    {
     "data": {
      "image/png": "[encoded data removed]",
      "text/plain": [
       "<Figure size 432x288 with 1 Axes>"
      ]
     },
     "metadata": {
      "needs_background": "light"
     },
     "output_type": "display_data"
    }
   ],
   "source": [
    "lib.model_summary(model, history, tst)"
   ]
  },
  {
   "cell_type": "markdown",
   "metadata": {},
   "source": [
    "Lin (2022): (Classification?)"
   ]
  },
  {
   "cell_type": "code",
   "execution_count": 26,
   "metadata": {},
   "outputs": [
    {
     "name": "stdout",
     "output_type": "stream",
     "text": [
      "Epoch 1/10\n",
      "59/59 [==============================] - 13s 191ms/step - loss: 2.1230 - root_mean_squared_error: 1.4570 - val_loss: 0.0064 - val_root_mean_squared_error: 0.0802\n",
      "Epoch 2/10\n",
      "59/59 [==============================] - 14s 228ms/step - loss: 0.0096 - root_mean_squared_error: 0.0979 - val_loss: 0.0060 - val_root_mean_squared_error: 0.0776\n",
      "Epoch 3/10\n",
      "59/59 [==============================] - 14s 238ms/step - loss: 0.0074 - root_mean_squared_error: 0.0861 - val_loss: 0.0054 - val_root_mean_squared_error: 0.0734\n",
      "Epoch 4/10\n",
      "59/59 [==============================] - 12s 206ms/step - loss: 0.0067 - root_mean_squared_error: 0.0818 - val_loss: 0.0048 - val_root_mean_squared_error: 0.0690\n",
      "Epoch 5/10\n",
      "59/59 [==============================] - 12s 196ms/step - loss: 0.0060 - root_mean_squared_error: 0.0773 - val_loss: 0.0043 - val_root_mean_squared_error: 0.0658\n",
      "Epoch 6/10\n",
      "59/59 [==============================] - 14s 228ms/step - loss: 0.0052 - root_mean_squared_error: 0.0723 - val_loss: 0.0039 - val_root_mean_squared_error: 0.0625\n",
      "Epoch 7/10\n",
      "59/59 [==============================] - 12s 198ms/step - loss: 0.0047 - root_mean_squared_error: 0.0684 - val_loss: 0.0035 - val_root_mean_squared_error: 0.0591\n",
      "Epoch 8/10\n",
      "59/59 [==============================] - 12s 211ms/step - loss: 0.0042 - root_mean_squared_error: 0.0648 - val_loss: 0.0031 - val_root_mean_squared_error: 0.0558\n",
      "Epoch 9/10\n",
      "59/59 [==============================] - 10s 167ms/step - loss: 0.0037 - root_mean_squared_error: 0.0608 - val_loss: 0.0027 - val_root_mean_squared_error: 0.0520\n",
      "Epoch 10/10\n",
      "59/59 [==============================] - 15s 249ms/step - loss: 0.0032 - root_mean_squared_error: 0.0564 - val_loss: 0.0024 - val_root_mean_squared_error: 0.0486\n",
      "29/29 [==============================] - 2s 55ms/step - loss: 0.0025 - root_mean_squared_error: 0.0504\n",
      "Test RMSE: 0.0504\n"
     ]
    }
   ],
   "source": [
    "inputs = keras.Input(shape=(sequence_length, input_shape, 1))\n",
    "\n",
    "# Convolutional Layers\n",
    "# Layer 0\n",
    "x = layers.Conv2D(32, (3,int(sequence_length/10)), padding=\"valid\")(inputs)\n",
    "x = layers.BatchNormalization()(x)\n",
    "x = layers.PReLU()(x)\n",
    "x = layers.Dropout(0.5)(x)\n",
    "\n",
    "x = layers.MaxPooling2D(pool_size=(1,3))(x)\n",
    "x = layers.BatchNormalization()(x)\n",
    "x = layers.PReLU()(x)\n",
    "x = layers.Dropout(0.5)(x)\n",
    "\n",
    "x = layers.Conv2D(32, (3,int(sequence_length/10)), padding=\"valid\")(inputs)\n",
    "x = layers.BatchNormalization()(x)\n",
    "x = layers.PReLU()(x)\n",
    "x = layers.Dropout(0.5)(x)\n",
    "\n",
    "x = layers.MaxPooling2D(pool_size=(1,3))(x)\n",
    "x = layers.BatchNormalization()(x)\n",
    "x = layers.PReLU()(x)\n",
    "x = layers.Dropout(0.5)(x)\n",
    "\n",
    "x = layers.Flatten()(x)\n",
    "x = layers.Dense(500)(x)\n",
    "x = layers.ReLU()(x)\n",
    "outputs = layers.Dense(output_shape)(x)\n",
    "\n",
    "# Construct model and descent algorithm, train, and print test results\n",
    "model = keras.Model(inputs, outputs)\n",
    "callbacks = [\n",
    " keras.callbacks.ModelCheckpoint(save_dir + \"27_Lin_Conv2D.keras\",\n",
    " save_best_only=True)\n",
    "]\n",
    "opt = tf.keras.optimizers.Adam(learning_rate=0.005,\n",
    "    beta_1=0.99,\n",
    "    beta_2=0.999,\n",
    "    epsilon=1e-05,\n",
    ")\n",
    "model.compile(optimizer='adam', loss=\"mse\", metrics=[tf.keras.metrics.RootMeanSquaredError()])\n",
    "history = model.fit(trn,\n",
    " epochs=10,\n",
    " validation_data=val,\n",
    " batch_size=38,\n",
    " callbacks=callbacks)\n",
    "model = keras.models.load_model(save_dir + \"27_Lin_Conv2D.keras\")\n",
    "print(f\"Test RMSE: {model.evaluate(tst)[1]:.4f}\")"
   ]
  },
  {
   "cell_type": "code",
   "execution_count": null,
   "metadata": {},
   "outputs": [],
   "source": [
    "lib.model_summary(model, history, tst)"
   ]
  },
  {
   "cell_type": "markdown",
   "metadata": {},
   "source": [
    "Hajin (2022): CNNs"
   ]
  },
  {
   "cell_type": "code",
   "execution_count": null,
   "metadata": {},
   "outputs": [],
   "source": [
    "inputs = keras.Input(shape=(sequence_length, input_shape,1))\n",
    "\n",
    "# Convolutional Stack 0\n",
    "# Convolutional Layer 0\n",
    "x = layers.Conv2D(128, (3,3), padding=\"same\")(inputs)\n",
    "x = layers.BatchNormalization()(x)\n",
    "x = layers.ReLU()(x)\n",
    "\n",
    "# Convolutional Layer 1\n",
    "x = layers.Conv2D(128, (3,3), padding=\"same\")(x)\n",
    "x = layers.BatchNormalization()(x)\n",
    "x = layers.ReLU()(x)\n",
    "x = layers.MaxPooling2D(pool_size=(2,2))(x)\n",
    "\n",
    "# Convolutional Layer 2\n",
    "x = layers.Conv2D(256, (3,3), padding=\"same\")(x)\n",
    "x = layers.BatchNormalization()(x)\n",
    "x = layers.ReLU()(x)\n",
    "\n",
    "# Convolutional Layer 3\n",
    "x = layers.Conv2D(256, (3,3), padding=\"same\")(x)\n",
    "x = layers.BatchNormalization()(x)\n",
    "x = layers.ReLU()(x)\n",
    "x = layers.MaxPooling2D(pool_size=(2,2))(x)\n",
    "\n",
    "# Convolutional Layer 4\n",
    "x = layers.Conv2D(256, (3,3), padding=\"same\")(x)\n",
    "x = layers.BatchNormalization()(x)\n",
    "x = layers.ReLU()(x)\n",
    "x = layers.MaxPooling2D(pool_size=(2,2))(x)\n",
    "x = layers.Dropout(0.5)(x)\n",
    "\n",
    "# Output Layer\n",
    "x = layers.Flatten()(x)\n",
    "\n",
    "# Convolutional Stack 1\n",
    "# Convolutional Layer 0\n",
    "x1 = layers.Conv2D(128, (7,7), padding=\"same\")(inputs)\n",
    "x1 = layers.BatchNormalization()(x1)\n",
    "x1 = layers.ReLU()(x1)\n",
    "\n",
    "# Convolutional Layer 1\n",
    "x1 = layers.Conv2D(128, (7,7), padding=\"same\")(x1)\n",
    "x1 = layers.BatchNormalization()(x1)\n",
    "x1 = layers.ReLU()(x1)\n",
    "x1 = layers.MaxPooling2D(pool_size=(2,2))(x1)\n",
    "\n",
    "# Convolutional Layer 2\n",
    "x1 = layers.Conv2D(256, (7,7), padding=\"same\")(x1)\n",
    "x1 = layers.BatchNormalization()(x1)\n",
    "x1 = layers.ReLU()(x1)\n",
    "\n",
    "# Convolutional Layer 3\n",
    "x1 = layers.Conv2D(256, (7,7), padding=\"same\")(x1)\n",
    "x1 = layers.BatchNormalization()(x1)\n",
    "x1 = layers.ReLU()(x1)\n",
    "x1 = layers.MaxPooling2D(pool_size=(2,2))(x1)\n",
    "\n",
    "# Convolutional Layer 4\n",
    "x1 = layers.Conv2D(256, (7,7), padding=\"same\")(x1)\n",
    "x1 = layers.BatchNormalization()(x1)\n",
    "x1 = layers.ReLU()(x1)\n",
    "x1 = layers.MaxPooling2D(pool_size=(2,2))(x1)\n",
    "x1 = layers.Dropout(0.5)(x1)\n",
    "\n",
    "# Output layer\n",
    "x1 = layers.Flatten()(x1)\n",
    "\n",
    "# Aggregation layer\n",
    "x = layers.Concatenate()([x, x1])\n",
    "x = layers.Dense(100)(x)\n",
    "x = layers.ReLU()(x)\n",
    "x = layers.Dense(50)(x)\n",
    "x = layers.ReLU()(x)\n",
    "\n",
    "outputs = layers.Dense(output_shape)(x)\n",
    "\n",
    "# Construct model and descent algorithm, train, and print test results\n",
    "model = keras.Model(inputs, outputs)\n",
    "callbacks = [\n",
    " keras.callbacks.ModelCheckpoint(save_dir + \"27_Hajin_Parallel_Stacked.keras\",\n",
    " save_best_only=True)\n",
    "]\n",
    "opt = tf.keras.optimizers.Adam(learning_rate=0.001,\n",
    "    beta_1=0.9,\n",
    "    beta_2=0.999,\n",
    "    epsilon=1e-05,\n",
    ")\n",
    "model.compile(optimizer='adam', loss=\"mse\", metrics=[tf.keras.metrics.RootMeanSquaredError()])\n",
    "history = model.fit(trn,\n",
    " epochs=15,\n",
    " validation_data=val,\n",
    " batch_size=128,\n",
    " callbacks=callbacks)\n",
    "model = keras.models.load_model(save_dir + \"27_Hajin_Parallel_Stacked.keras\")\n",
    "print(f\"Test RMSE: {model.evaluate(tst)[1]:.4f}\")"
   ]
  },
  {
   "cell_type": "code",
   "execution_count": null,
   "metadata": {},
   "outputs": [],
   "source": [
    "lib.model_summary(model, history, tst)"
   ]
  }
 ],
 "metadata": {
  "interpreter": {
   "hash": "e02f9d08121485d963fbed69293f172ace8149a9f65bc36b8a8652d469531d6e"
  },
  "kernelspec": {
   "display_name": "Python 3.9.12 64-bit (windows store)",
   "language": "python",
   "name": "python3"
  },
  "language_info": {
   "codemirror_mode": {
    "name": "ipython",
    "version": 3
   },
   "file_extension": ".py",
   "mimetype": "text/x-python",
   "name": "python",
   "nbconvert_exporter": "python",
   "pygments_lexer": "ipython3",
   "version": "3.9.12"
  },
  "orig_nbformat": 4
 },
 "nbformat": 4,
 "nbformat_minor": 2
}
